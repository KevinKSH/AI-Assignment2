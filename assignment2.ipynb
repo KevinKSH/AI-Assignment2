{
 "cells": [
  {
   "cell_type": "code",
   "execution_count": null,
   "metadata": {},
   "outputs": [],
   "source": [
    "# Importing necessary modules\n",
    "import pandas as pd\n",
    "import numpy as np\n",
    "from sklearn.linear_model import LinearRegression\n",
    "from sklearn.model_selection import train_test_split\n",
    "from sklearn.metrics import mean_absolute_error, r2_score\n",
    "from sklearn.preprocessing import OneHotEncoder\n",
    "\n",
    "# Loading the dataset and filter out rows with passenger count less than 0.\n",
    "url = 'https://raw.githubusercontent.com/atikagondal/Assignment-2-dave3625-202323/main/Ruter-data.csv' # If you are experiencing URLError, try changing downloading the Ruter_data.csv file and replace the url with that instead.\n",
    "data = pd.read_csv(url, sep=';', engine='python')\n",
    "data = data[data['Passasjerer_Ombord'] > 0]\n",
    "\n",
    "# Convert date to datetime with format day/month/year\n",
    "data['Dato'] = pd.to_datetime(data['Dato'], format='%d/%m/%Y')\n",
    "\n",
    "# Define a reference date to calculate\n",
    "reference_date = pd.to_datetime('01/01/2000', format='%d/%m/%Y')\n",
    "\n",
    "# Calculate the number of days since the reference date\n",
    "data['Days_Since_Reference'] = (data['Dato'] - reference_date).dt.days\n",
    "\n",
    "# One-hot encode the 'Linjenavn'\n",
    "encoder = OneHotEncoder(sparse=False, drop='first')\n",
    "encoded_linjenavn = encoder.fit_transform(data['Linjenavn'].values.reshape(-1, 1))\n",
    "\n",
    "# Combine the one-hot encoded 'Linjenavn' with Days_Since_Reference\n",
    "X = np.hstack([encoded_linjenavn, data['Days_Since_Reference'].values.reshape(-1, 1)])\n",
    "y = data['Passasjerer_Ombord']\n",
    "\n",
    "# Split our test and target set into 20/80 split where 20% is used for testing while the remaining 80% is used for training.\n",
    "X_train, X_test, y_train, y_test = train_test_split(X, y, test_size=0.20, random_state=42)\n",
    "\n",
    "# Training our Linear Regression algorithm with the train/test -split and then predict the value using X_train set.\n",
    "linreg = LinearRegression()\n",
    "linreg.fit(X_train, y_train)\n",
    "y_pred_train = linreg.predict(X_train)\n",
    "\n",
    "# Evaluate the prediction with the following codes to check if the model is any good\n",
    "mae = mean_absolute_error(y_train, y_pred_train)\n",
    "r2 = r2_score(y_train, y_pred_train)\n",
    "\n",
    "print(f\"Mean Absolute Error: {mae}\")\n",
    "print(f\"R2 Score: {r2}\")\n",
    "\n",
    "# A function for handling date and bus inputs and predicts the number of passengers based on these inputs.\n",
    "def predict_passengers(date_str, linjenavn):\n",
    "    date_obj = pd.to_datetime(date_str, format='%d/%m/%Y')\n",
    "    days_since_reference = (date_obj - reference_date).days\n",
    "    \n",
    "    # One-hot encode the provided linjenavn\n",
    "    encoded_linje = encoder.transform(np.array([[linjenavn]]))\n",
    "    \n",
    "    # Combine the one-hot encoded 'Linjenavn' with days_since_reference\n",
    "    features = np.hstack([encoded_linje, np.array([[days_since_reference]])])\n",
    "    \n",
    "    predicted_passengers = linreg.predict(features)\n",
    "    return int(predicted_passengers[0])\n",
    "\n",
    "# Test the function with a specific 'Date (FORMAT = 'DD/MM/YYYY')' and 'Linjenavn' from our dataset.\n",
    "print(predict_passengers('03/08/2023', '450'))"
   ]
  }
 ],
 "metadata": {
  "kernelspec": {
   "display_name": "Python 3.11.5 64-bit",
   "language": "python",
   "name": "python3"
  },
  "language_info": {
   "codemirror_mode": {
    "name": "ipython",
    "version": 3
   },
   "file_extension": ".py",
   "mimetype": "text/x-python",
   "name": "python",
   "nbconvert_exporter": "python",
   "pygments_lexer": "ipython3",
   "version": "3.11.5"
  },
  "orig_nbformat": 4,
  "vscode": {
   "interpreter": {
    "hash": "aee8b7b246df8f9039afb4144a1f6fd8d2ca17a180786b69acc140d282b71a49"
   }
  }
 },
 "nbformat": 4,
 "nbformat_minor": 2
}
